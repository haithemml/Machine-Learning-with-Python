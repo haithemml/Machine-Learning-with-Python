{
  "nbformat": 4,
  "nbformat_minor": 0,
  "metadata": {
    "colab": {
      "name": "congestive_heart",
      "provenance": [],
      "collapsed_sections": [],
      "mount_file_id": "1HARzm7B_d0DYQeBJMxRQ16q9UBnPivvj",
      "authorship_tag": "ABX9TyNr4w/E1A7tNVz6KRlEfU5F",
      "include_colab_link": true
    },
    "kernelspec": {
      "name": "python3",
      "display_name": "Python 3"
    },
    "language_info": {
      "name": "python"
    }
  },
  "cells": [
    {
      "cell_type": "markdown",
      "metadata": {
        "id": "view-in-github",
        "colab_type": "text"
      },
      "source": [
        "<a href=\"https://colab.research.google.com/github/haithemml/Machine-Learning-with-Python/blob/master/congestive_heart.ipynb\" target=\"_parent\"><img src=\"https://colab.research.google.com/assets/colab-badge.svg\" alt=\"Open In Colab\"/></a>"
      ]
    },
    {
      "cell_type": "code",
      "execution_count": 2,
      "metadata": {
        "id": "httoV15vzxvU"
      },
      "outputs": [],
      "source": [
        "import numpy as np\n",
        "import pandas as pd\n",
        "import matplotlib.pyplot as plt\n",
        "import seaborn as sns\n",
        "%matplotlib inline"
      ]
    },
    {
      "cell_type": "code",
      "source": [
        "data = pd.read_csv('congestive-heart.csv')\n",
        "data.tail()"
      ],
      "metadata": {
        "colab": {
          "base_uri": "https://localhost:8080/",
          "height": 328
        },
        "id": "dcy2vBOR3CcI",
        "outputId": "ff1cf1d8-d5e2-4c09-9af7-6342929bf68c"
      },
      "execution_count": 11,
      "outputs": [
        {
          "output_type": "execute_result",
          "data": {
            "text/html": [
              "<div>\n",
              "<style scoped>\n",
              "    .dataframe tbody tr th:only-of-type {\n",
              "        vertical-align: middle;\n",
              "    }\n",
              "\n",
              "    .dataframe tbody tr th {\n",
              "        vertical-align: top;\n",
              "    }\n",
              "\n",
              "    .dataframe thead th {\n",
              "        text-align: right;\n",
              "    }\n",
              "</style>\n",
              "<table border=\"1\" class=\"dataframe\">\n",
              "  <thead>\n",
              "    <tr style=\"text-align: right;\">\n",
              "      <th></th>\n",
              "      <th>Indicator Id</th>\n",
              "      <th>Dimension List</th>\n",
              "      <th>Time Frame</th>\n",
              "      <th>Numeric Value</th>\n",
              "      <th>Missing Value Flag</th>\n",
              "      <th>Locale Id</th>\n",
              "      <th>Locale</th>\n",
              "      <th>Locale Level</th>\n",
              "      <th>Locale State FIPS Code</th>\n",
              "      <th>Locale County FIPS Code</th>\n",
              "      <th>Locale HRR Code</th>\n",
              "    </tr>\n",
              "  </thead>\n",
              "  <tbody>\n",
              "    <tr>\n",
              "      <th>5</th>\n",
              "      <td>416026854</td>\n",
              "      <td>Aged 75 years and over</td>\n",
              "      <td>2013</td>\n",
              "      <td>2034.0</td>\n",
              "      <td>NaN</td>\n",
              "      <td>1.0</td>\n",
              "      <td>Alabama</td>\n",
              "      <td>State</td>\n",
              "      <td>1.0</td>\n",
              "      <td>1.0</td>\n",
              "      <td>NaN</td>\n",
              "    </tr>\n",
              "    <tr>\n",
              "      <th>6</th>\n",
              "      <td>416027011</td>\n",
              "      <td>Aged &lt;65 years</td>\n",
              "      <td>2013</td>\n",
              "      <td>NaN</td>\n",
              "      <td>NaN</td>\n",
              "      <td>101.0</td>\n",
              "      <td>Alabama - Autauga</td>\n",
              "      <td>County</td>\n",
              "      <td>1.0</td>\n",
              "      <td>1001.0</td>\n",
              "      <td>NaN</td>\n",
              "    </tr>\n",
              "    <tr>\n",
              "      <th>7</th>\n",
              "      <td>416027012</td>\n",
              "      <td>Aged 65-74 years</td>\n",
              "      <td>2013</td>\n",
              "      <td>NaN</td>\n",
              "      <td>NaN</td>\n",
              "      <td>101.0</td>\n",
              "      <td>Alabama - Autauga</td>\n",
              "      <td>County</td>\n",
              "      <td>1.0</td>\n",
              "      <td>1001.0</td>\n",
              "      <td>NaN</td>\n",
              "    </tr>\n",
              "    <tr>\n",
              "      <th>8</th>\n",
              "      <td>416027013</td>\n",
              "      <td>Aged 75 years and over</td>\n",
              "      <td>2013</td>\n",
              "      <td>NaN</td>\n",
              "      <td>NaN</td>\n",
              "      <td>101.0</td>\n",
              "      <td>Alabama - Autauga</td>\n",
              "      <td>County</td>\n",
              "      <td>1.0</td>\n",
              "      <td>1001.0</td>\n",
              "      <td>NaN</td>\n",
              "    </tr>\n",
              "    <tr>\n",
              "      <th>9</th>\n",
              "      <td>416027014</td>\n",
              "      <td>Aged &lt;65 years</td>\n",
              "      <td>2013</td>\n",
              "      <td>NaN</td>\n",
              "      <td>NaN</td>\n",
              "      <td>102.0</td>\n",
              "      <td>Alabama - Baldwin</td>\n",
              "      <td>County</td>\n",
              "      <td>1.0</td>\n",
              "      <td>1003.0</td>\n",
              "      <td>NaN</td>\n",
              "    </tr>\n",
              "  </tbody>\n",
              "</table>\n",
              "</div>"
            ],
            "text/plain": [
              "   Indicator Id  ... Locale HRR Code\n",
              "5     416026854  ...             NaN\n",
              "6     416027011  ...             NaN\n",
              "7     416027012  ...             NaN\n",
              "8     416027013  ...             NaN\n",
              "9     416027014  ...             NaN\n",
              "\n",
              "[5 rows x 11 columns]"
            ]
          },
          "metadata": {},
          "execution_count": 11
        }
      ]
    },
    {
      "cell_type": "code",
      "source": [
        "data.describe()"
      ],
      "metadata": {
        "colab": {
          "base_uri": "https://localhost:8080/",
          "height": 318
        },
        "id": "Q0UV57I43Ttb",
        "outputId": "a7e332a6-4b35-4188-9925-cbac8b34cb41"
      },
      "execution_count": 4,
      "outputs": [
        {
          "output_type": "execute_result",
          "data": {
            "text/html": [
              "<div>\n",
              "<style scoped>\n",
              "    .dataframe tbody tr th:only-of-type {\n",
              "        vertical-align: middle;\n",
              "    }\n",
              "\n",
              "    .dataframe tbody tr th {\n",
              "        vertical-align: top;\n",
              "    }\n",
              "\n",
              "    .dataframe thead th {\n",
              "        text-align: right;\n",
              "    }\n",
              "</style>\n",
              "<table border=\"1\" class=\"dataframe\">\n",
              "  <thead>\n",
              "    <tr style=\"text-align: right;\">\n",
              "      <th></th>\n",
              "      <th>Indicator Id</th>\n",
              "      <th>Time Frame</th>\n",
              "      <th>Numeric Value</th>\n",
              "      <th>Missing Value Flag</th>\n",
              "      <th>Locale Id</th>\n",
              "      <th>Locale State FIPS Code</th>\n",
              "      <th>Locale County FIPS Code</th>\n",
              "      <th>Locale HRR Code</th>\n",
              "    </tr>\n",
              "  </thead>\n",
              "  <tbody>\n",
              "    <tr>\n",
              "      <th>count</th>\n",
              "      <td>1.000000e+01</td>\n",
              "      <td>10.0</td>\n",
              "      <td>6.000000</td>\n",
              "      <td>0.0</td>\n",
              "      <td>7.000000</td>\n",
              "      <td>7.0</td>\n",
              "      <td>7.000000</td>\n",
              "      <td>0.0</td>\n",
              "    </tr>\n",
              "    <tr>\n",
              "      <th>mean</th>\n",
              "      <td>4.160269e+08</td>\n",
              "      <td>2013.0</td>\n",
              "      <td>1188.000000</td>\n",
              "      <td>NaN</td>\n",
              "      <td>58.285714</td>\n",
              "      <td>1.0</td>\n",
              "      <td>572.714286</td>\n",
              "      <td>NaN</td>\n",
              "    </tr>\n",
              "    <tr>\n",
              "      <th>std</th>\n",
              "      <td>8.315508e+01</td>\n",
              "      <td>0.0</td>\n",
              "      <td>635.489103</td>\n",
              "      <td>NaN</td>\n",
              "      <td>53.587045</td>\n",
              "      <td>0.0</td>\n",
              "      <td>534.790213</td>\n",
              "      <td>NaN</td>\n",
              "    </tr>\n",
              "    <tr>\n",
              "      <th>min</th>\n",
              "      <td>4.160268e+08</td>\n",
              "      <td>2013.0</td>\n",
              "      <td>637.000000</td>\n",
              "      <td>NaN</td>\n",
              "      <td>1.000000</td>\n",
              "      <td>1.0</td>\n",
              "      <td>1.000000</td>\n",
              "      <td>NaN</td>\n",
              "    </tr>\n",
              "    <tr>\n",
              "      <th>25%</th>\n",
              "      <td>4.160269e+08</td>\n",
              "      <td>2013.0</td>\n",
              "      <td>765.000000</td>\n",
              "      <td>NaN</td>\n",
              "      <td>1.000000</td>\n",
              "      <td>1.0</td>\n",
              "      <td>1.000000</td>\n",
              "      <td>NaN</td>\n",
              "    </tr>\n",
              "    <tr>\n",
              "      <th>50%</th>\n",
              "      <td>4.160269e+08</td>\n",
              "      <td>2013.0</td>\n",
              "      <td>881.000000</td>\n",
              "      <td>NaN</td>\n",
              "      <td>101.000000</td>\n",
              "      <td>1.0</td>\n",
              "      <td>1001.000000</td>\n",
              "      <td>NaN</td>\n",
              "    </tr>\n",
              "    <tr>\n",
              "      <th>75%</th>\n",
              "      <td>4.160270e+08</td>\n",
              "      <td>2013.0</td>\n",
              "      <td>1696.750000</td>\n",
              "      <td>NaN</td>\n",
              "      <td>101.000000</td>\n",
              "      <td>1.0</td>\n",
              "      <td>1001.000000</td>\n",
              "      <td>NaN</td>\n",
              "    </tr>\n",
              "    <tr>\n",
              "      <th>max</th>\n",
              "      <td>4.160270e+08</td>\n",
              "      <td>2013.0</td>\n",
              "      <td>2034.000000</td>\n",
              "      <td>NaN</td>\n",
              "      <td>102.000000</td>\n",
              "      <td>1.0</td>\n",
              "      <td>1003.000000</td>\n",
              "      <td>NaN</td>\n",
              "    </tr>\n",
              "  </tbody>\n",
              "</table>\n",
              "</div>"
            ],
            "text/plain": [
              "       Indicator Id  Time Frame  ...  Locale County FIPS Code  Locale HRR Code\n",
              "count  1.000000e+01        10.0  ...                 7.000000              0.0\n",
              "mean   4.160269e+08      2013.0  ...               572.714286              NaN\n",
              "std    8.315508e+01         0.0  ...               534.790213              NaN\n",
              "min    4.160268e+08      2013.0  ...                 1.000000              NaN\n",
              "25%    4.160269e+08      2013.0  ...                 1.000000              NaN\n",
              "50%    4.160269e+08      2013.0  ...              1001.000000              NaN\n",
              "75%    4.160270e+08      2013.0  ...              1001.000000              NaN\n",
              "max    4.160270e+08      2013.0  ...              1003.000000              NaN\n",
              "\n",
              "[8 rows x 8 columns]"
            ]
          },
          "metadata": {},
          "execution_count": 4
        }
      ]
    },
    {
      "cell_type": "code",
      "source": [
        "data.info"
      ],
      "metadata": {
        "colab": {
          "base_uri": "https://localhost:8080/"
        },
        "id": "lt3Jpco-4-69",
        "outputId": "1526350a-ff37-431c-894a-93b054026586"
      },
      "execution_count": 8,
      "outputs": [
        {
          "output_type": "execute_result",
          "data": {
            "text/plain": [
              "<bound method DataFrame.info of    Indicator Id  ... Locale HRR Code\n",
              "0     416026849  ...             NaN\n",
              "1     416026850  ...             NaN\n",
              "2     416026851  ...             NaN\n",
              "3     416026852  ...             NaN\n",
              "4     416026853  ...             NaN\n",
              "5     416026854  ...             NaN\n",
              "6     416027011  ...             NaN\n",
              "7     416027012  ...             NaN\n",
              "8     416027013  ...             NaN\n",
              "9     416027014  ...             NaN\n",
              "\n",
              "[10 rows x 11 columns]>"
            ]
          },
          "metadata": {},
          "execution_count": 8
        }
      ]
    },
    {
      "cell_type": "code",
      "source": [
        "index_with_nan = data.index[data.isnull().any(axis=1)]\n",
        "print(index_with_nan)\n"
      ],
      "metadata": {
        "colab": {
          "base_uri": "https://localhost:8080/"
        },
        "id": "NDJBpfM73kqk",
        "outputId": "5f241f5c-7233-4ba0-b087-63aacdbc8878"
      },
      "execution_count": 5,
      "outputs": [
        {
          "output_type": "stream",
          "name": "stdout",
          "text": [
            "Int64Index([0, 1, 2, 3, 4, 5, 6, 7, 8, 9], dtype='int64')\n"
          ]
        }
      ]
    },
    {
      "cell_type": "code",
      "source": [
        "print(data['Numeric Value'])"
      ],
      "metadata": {
        "colab": {
          "base_uri": "https://localhost:8080/"
        },
        "id": "gqOOElfD5Ehx",
        "outputId": "ef0f9cf9-647a-4e6e-c521-255659d28418"
      },
      "execution_count": 12,
      "outputs": [
        {
          "output_type": "stream",
          "name": "stdout",
          "text": [
            "0     867.0\n",
            "1     637.0\n",
            "2    1964.0\n",
            "3     895.0\n",
            "4     731.0\n",
            "5    2034.0\n",
            "6       NaN\n",
            "7       NaN\n",
            "8       NaN\n",
            "9       NaN\n",
            "Name: Numeric Value, dtype: float64\n"
          ]
        }
      ]
    },
    {
      "cell_type": "code",
      "source": [
        "print(data['Numeric Value'].isnull())"
      ],
      "metadata": {
        "colab": {
          "base_uri": "https://localhost:8080/"
        },
        "id": "U6qtyuCk7nuY",
        "outputId": "6da0970c-9a45-4f1c-db68-fa6a8a444c57"
      },
      "execution_count": 13,
      "outputs": [
        {
          "output_type": "stream",
          "name": "stdout",
          "text": [
            "0    False\n",
            "1    False\n",
            "2    False\n",
            "3    False\n",
            "4    False\n",
            "5    False\n",
            "6     True\n",
            "7     True\n",
            "8     True\n",
            "9     True\n",
            "Name: Numeric Value, dtype: bool\n"
          ]
        }
      ]
    },
    {
      "cell_type": "code",
      "source": [
        "missing_values = [\"NaN\"]\n",
        "data = pd.read_csv(\"congestive-heart.csv\", na_values=missing_values)"
      ],
      "metadata": {
        "id": "My43XpZX8Di6"
      },
      "execution_count": 17,
      "outputs": []
    },
    {
      "cell_type": "code",
      "source": [
        "cnt = 0\n",
        "for row in data['Numeric Value']:\n",
        "  try:\n",
        "    int(row)\n",
        "    data.loc[cnt, 'Numeric Value'] = np.nan\n",
        "  except  ValueError:\n",
        "      pass\n",
        "      cnt+=1"
      ],
      "metadata": {
        "id": "pSCw_pmQ9R6L"
      },
      "execution_count": 21,
      "outputs": []
    },
    {
      "cell_type": "code",
      "source": [
        "print(data.isnull().sum())"
      ],
      "metadata": {
        "colab": {
          "base_uri": "https://localhost:8080/"
        },
        "id": "B4zugphN-Tp3",
        "outputId": "f7718f2d-fa55-43ea-c08a-e82a9dbb7642"
      },
      "execution_count": 22,
      "outputs": [
        {
          "output_type": "stream",
          "name": "stdout",
          "text": [
            "Indicator Id                0\n",
            "Dimension List              0\n",
            "Time Frame                  0\n",
            "Numeric Value               5\n",
            "Missing Value Flag         10\n",
            "Locale Id                   3\n",
            "Locale                      0\n",
            "Locale Level                0\n",
            "Locale State FIPS Code      3\n",
            "Locale County FIPS Code     3\n",
            "Locale HRR Code            10\n",
            "dtype: int64\n"
          ]
        }
      ]
    },
    {
      "cell_type": "code",
      "source": [
        ""
      ],
      "metadata": {
        "id": "9aXK1II1GEQE"
      },
      "execution_count": null,
      "outputs": []
    },
    {
      "cell_type": "code",
      "source": [
        "print(data.isnull().values.any())"
      ],
      "metadata": {
        "colab": {
          "base_uri": "https://localhost:8080/"
        },
        "id": "qGINF4OW-cCC",
        "outputId": "b4394b22-e3bd-47f6-c28e-bf9a39f75364"
      },
      "execution_count": 23,
      "outputs": [
        {
          "output_type": "stream",
          "name": "stdout",
          "text": [
            "True\n"
          ]
        }
      ]
    },
    {
      "cell_type": "code",
      "source": [
        "print(data.isnull().sum().sum())"
      ],
      "metadata": {
        "colab": {
          "base_uri": "https://localhost:8080/"
        },
        "id": "Y5pNBfCt-mVq",
        "outputId": "7b3349ef-c7b7-48ec-d2b5-32cddd73822d"
      },
      "execution_count": 24,
      "outputs": [
        {
          "output_type": "stream",
          "name": "stdout",
          "text": [
            "34\n"
          ]
        }
      ]
    },
    {
      "cell_type": "code",
      "source": [
        "data['Numeric Value'].fillna(25, inplace=True)"
      ],
      "metadata": {
        "id": "XnMf7yUn-uZv"
      },
      "execution_count": 25,
      "outputs": []
    },
    {
      "cell_type": "code",
      "source": [
        "data.loc[2, 'Numeric Values'] = 25"
      ],
      "metadata": {
        "id": "TwfhDVyR_Lds"
      },
      "execution_count": 26,
      "outputs": []
    },
    {
      "cell_type": "code",
      "source": [
        "median = data['Numeric Value'].median()\n",
        "data['Numeric Value'].fillna(median, inplace=True)"
      ],
      "metadata": {
        "id": "FV5_DCQA_cZO"
      },
      "execution_count": 27,
      "outputs": []
    },
    {
      "cell_type": "code",
      "source": [
        "data['Numeric Value'].head()"
      ],
      "metadata": {
        "colab": {
          "base_uri": "https://localhost:8080/"
        },
        "id": "Lr93r39lACJ2",
        "outputId": "74a8603d-3f97-4a08-f71f-df4693d7da3c"
      },
      "execution_count": 28,
      "outputs": [
        {
          "output_type": "execute_result",
          "data": {
            "text/plain": [
              "0      25.0\n",
              "1     637.0\n",
              "2    1964.0\n",
              "3     895.0\n",
              "4     731.0\n",
              "Name: Numeric Value, dtype: float64"
            ]
          },
          "metadata": {},
          "execution_count": 28
        }
      ]
    },
    {
      "cell_type": "code",
      "source": [
        "sns.distplot(data['Numeric Value'])"
      ],
      "metadata": {
        "colab": {
          "base_uri": "https://localhost:8080/",
          "height": 351
        },
        "id": "4feWrNozEUkm",
        "outputId": "70c35be1-7a5e-4bc8-905a-29d0ff330414"
      },
      "execution_count": 36,
      "outputs": [
        {
          "output_type": "stream",
          "name": "stderr",
          "text": [
            "/usr/local/lib/python3.7/dist-packages/seaborn/distributions.py:2619: FutureWarning: `distplot` is a deprecated function and will be removed in a future version. Please adapt your code to use either `displot` (a figure-level function with similar flexibility) or `histplot` (an axes-level function for histograms).\n",
            "  warnings.warn(msg, FutureWarning)\n"
          ]
        },
        {
          "output_type": "execute_result",
          "data": {
            "text/plain": [
              "<matplotlib.axes._subplots.AxesSubplot at 0x7feb2d85b590>"
            ]
          },
          "metadata": {},
          "execution_count": 36
        },
        {
          "output_type": "display_data",
          "data": {
            "image/png": "[encoded data removed]",
            "text/plain": [
              "<Figure size 432x288 with 1 Axes>"
            ]
          },
          "metadata": {
            "needs_background": "light"
          }
        }
      ]
    },
    {
      "cell_type": "code",
      "source": [
        "print(\"Skewness: %f\" % data['Numeric Value'].skew())\n",
        "print(\"Kurtosis: %f\" % data['Numeric Value'].kurt())"
      ],
      "metadata": {
        "colab": {
          "base_uri": "https://localhost:8080/"
        },
        "id": "v2flyPKoElun",
        "outputId": "ee4d9d4d-027e-48b8-e046-7ddbfebe1ce3"
      },
      "execution_count": 37,
      "outputs": [
        {
          "output_type": "stream",
          "name": "stdout",
          "text": [
            "Skewness: 1.088115\n",
            "Kurtosis: -0.151482\n"
          ]
        }
      ]
    },
    {
      "cell_type": "code",
      "source": [
        "corr = data.corr()\n",
        "f, ax = plt.subplots(figsize=(9, 12))\n",
        "sns.heatmap(corr, vmax=.8, square=True)"
      ],
      "metadata": {
        "colab": {
          "base_uri": "https://localhost:8080/",
          "height": 709
        },
        "id": "wXCSn85NJbhg",
        "outputId": "b9afb266-c89b-48f2-dcf7-750b45e629d1"
      },
      "execution_count": 43,
      "outputs": [
        {
          "output_type": "execute_result",
          "data": {
            "text/plain": [
              "<matplotlib.axes._subplots.AxesSubplot at 0x7feb283f5250>"
            ]
          },
          "metadata": {},
          "execution_count": 43
        },
        {
          "output_type": "display_data",
          "data": {
            "image/png": "[encoded data removed]",
            "text/plain": [
              "<Figure size 648x864 with 2 Axes>"
            ]
          },
          "metadata": {
            "needs_background": "light"
          }
        }
      ]
    },
    {
      "cell_type": "code",
      "source": [
        "from sklearn.preprocessing import OneHotEncoder"
      ],
      "metadata": {
        "id": "U6kp4OndACGK"
      },
      "execution_count": 29,
      "outputs": []
    },
    {
      "cell_type": "code",
      "source": [
        "ohe = OneHotEncoder(handle_unknown='ignore')\n",
        "X = [['County', 1], ['State', 2]]\n",
        "ohe.fit(X)\n"
      ],
      "metadata": {
        "colab": {
          "base_uri": "https://localhost:8080/"
        },
        "id": "rSobaeIGAA0N",
        "outputId": "ae708790-207b-4739-f172-54397e9e825a"
      },
      "execution_count": 35,
      "outputs": [
        {
          "output_type": "execute_result",
          "data": {
            "text/plain": [
              "OneHotEncoder(handle_unknown='ignore')"
            ]
          },
          "metadata": {},
          "execution_count": 35
        }
      ]
    }
  ]
}